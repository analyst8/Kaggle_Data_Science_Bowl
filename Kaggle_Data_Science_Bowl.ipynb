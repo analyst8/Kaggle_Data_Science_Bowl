{
 "cells": [
  {
   "cell_type": "markdown",
   "metadata": {},
   "source": [
    "# 2019 DATA SCIENCE BOWL"
   ]
  },
  {
   "cell_type": "markdown",
   "metadata": {},
   "source": [
    "### Summary\n",
    "In this challenge, you’ll use anonymous gameplay data, including knowledge of videos watched and games played, from the PBS KIDS Measure Up! app, a game-based learning tool. Competitors will be challenged to predict scores on in-game assessments and create an algorithm that will lead to better-designed games and improved learning outcomes. \n",
    "Your solutions will aid in discovering important relationships between engagement with high-quality educational media and learning processes."
   ]
  },
  {
   "cell_type": "markdown",
   "metadata": {},
   "source": [
    "### Get modules needed"
   ]
  },
  {
   "cell_type": "code",
   "execution_count": 5,
   "metadata": {},
   "outputs": [],
   "source": [
    "import pandas as pd\n",
    "import numpy as np\n",
    "import seaborn as sns\n",
    "import matplotlib.pylab as plt\n",
    "from IPython.display import HTML\n",
    "import warnings\n",
    "pd.set_option('max_columns', 100)\n",
    "warnings.filterwarnings(\"ignore\")\n",
    "sns.set_style(\"whitegrid\")\n",
    "my_pal = sns.color_palette(n_colors=10)\n",
    "\n",
    "# set_options set maximum columns to 100\n",
    "# set stype and increased color palette for charting"
   ]
  },
  {
   "cell_type": "markdown",
   "metadata": {},
   "source": [
    "### Load Dataset"
   ]
  },
  {
   "cell_type": "markdown",
   "metadata": {},
   "source": [
    "First we will see what files we are given to work with. Note the train.csv file is quite large at 3.7G. From the data description we know:\n",
    "- train.csv & test.csv : These are the main data files which contain the gameplay events.\n",
    "- specs.csv : This file gives the specification of the various event types.\n",
    "- train_labels.csv : This file demonstrates how to compute the ground truth for the assessments in the training set.\n",
    "- sample_submission.csv : A sample submission in the correct format."
   ]
  },
  {
   "cell_type": "code",
   "execution_count": 1,
   "metadata": {},
   "outputs": [
    {
     "data": {
      "text/plain": [
       "'C:\\\\Users\\\\sandra\\\\Documents\\\\GitHub'"
      ]
     },
     "execution_count": 1,
     "metadata": {},
     "output_type": "execute_result"
    }
   ],
   "source": [
    "# List current directory\n",
    "import os\n",
    "os.getcwd()"
   ]
  },
  {
   "cell_type": "code",
   "execution_count": 39,
   "metadata": {},
   "outputs": [
    {
     "data": {
      "text/plain": [
       "'c:\\\\Users\\\\sandra\\\\Documents\\\\DataScienceProjects\\\\DataBowl'"
      ]
     },
     "execution_count": 39,
     "metadata": {},
     "output_type": "execute_result"
    }
   ],
   "source": [
    "# Change working directory\n",
    "os.chdir('c:/Users/sandra/Documents/DataScienceProjects/DataBowl')  \n",
    "os.getcwd()"
   ]
  },
  {
   "cell_type": "code",
   "execution_count": 40,
   "metadata": {},
   "outputs": [
    {
     "name": "stdout",
     "output_type": "stream",
     "text": [
      " Volume in drive C has no label.\n",
      " Volume Serial Number is A013-71D9\n",
      "\n",
      " Directory of c:\\Users\\sandra\\Documents\\DataScienceProjects\\DataBowl\n",
      "\n",
      "11/21/2019  10:08 AM    <DIR>          .\n",
      "11/21/2019  10:08 AM    <DIR>          ..\n",
      "11/21/2019  10:08 AM            11,031 sample_submission.csv\n",
      "11/21/2019  10:08 AM           408,868 specs.csv\n",
      "11/21/2019  10:08 AM       398,327,795 test.csv\n",
      "11/21/2019  10:09 AM     3,878,373,417 train.csv\n",
      "11/21/2019  10:08 AM         1,124,229 train_labels.csv\n",
      "               5 File(s)  4,278,245,340 bytes\n",
      "               2 Dir(s)  159,468,392,448 bytes free\n"
     ]
    }
   ],
   "source": [
    "# os.listdir()\n",
    "!ls"
   ]
  },
  {
   "cell_type": "code",
   "execution_count": 18,
   "metadata": {},
   "outputs": [],
   "source": [
    "# Read in the data CSV files\n",
    "train = pd.read_csv ('c:\\\\Users\\\\sandra\\\\Documents\\\\DataScienceProjects\\\\DataBowl\\\\train.csv')\n",
    "train_labels = pd.read_csv ('c:\\\\Users\\\\sandra\\\\Documents\\\\DataScienceProjects\\\\DataBowl\\\\train_labels.csv')\n",
    "test = pd.read_csv ('c:\\\\Users\\\\sandra\\\\Documents\\\\DataScienceProjects\\\\DataBowl\\\\test.csv')\n",
    "specs = pd.read_csv ('c:\\\\Users\\\\sandra\\\\Documents\\\\DataScienceProjects\\\\DataBowl\\\\specs.csv')\n",
    "ss = pd.read_csv ('c:\\\\Users\\\\sandra\\\\Documents\\\\DataScienceProjects\\\\DataBowl\\\\sample_submission.csv')\n"
   ]
  },
  {
   "cell_type": "markdown",
   "metadata": {},
   "source": [
    "The training data is so large, we will take a random sample of it for plotting. Since we are doing this at random it will speed up the time it takes to plot but still give us a a good view of the data's format. Later, can load the data in as manageable\n",
    "bits and then do the same plotting procedure."
   ]
  },
  {
   "cell_type": "code",
   "execution_count": 19,
   "metadata": {},
   "outputs": [],
   "source": [
    "train_ = train.sample(1000000) #sample 1M observations"
   ]
  },
  {
   "cell_type": "markdown",
   "metadata": {},
   "source": [
    "# What are we predicting?\n",
    "\n",
    "First we will look at the target we intend to predict.\n",
    "\n",
    "We are told: The intent of the competition is to use the gameplay data to forecast how many attempts a child will take to pass a given assessment (an incorrect answer is counted as an attempt). \n",
    "\n",
    "The outcomes in this competition are grouped into 4 groups (labeled accuracy_group in the data):\n",
    "- 3: the assessment was solved on the first attempt\n",
    "- 2: the assessment was solved on the second attempt\n",
    "- 1: the assessment was solved after 3 or more attempts\n",
    "- 0: the assessment was never solved"
   ]
  },
  {
   "cell_type": "code",
   "execution_count": 20,
   "metadata": {},
   "outputs": [
    {
     "data": {
      "text/html": [
       "<div>\n",
       "<style scoped>\n",
       "    .dataframe tbody tr th:only-of-type {\n",
       "        vertical-align: middle;\n",
       "    }\n",
       "\n",
       "    .dataframe tbody tr th {\n",
       "        vertical-align: top;\n",
       "    }\n",
       "\n",
       "    .dataframe thead th {\n",
       "        text-align: right;\n",
       "    }\n",
       "</style>\n",
       "<table border=\"1\" class=\"dataframe\">\n",
       "  <thead>\n",
       "    <tr style=\"text-align: right;\">\n",
       "      <th></th>\n",
       "      <th>game_session</th>\n",
       "      <th>installation_id</th>\n",
       "      <th>title</th>\n",
       "      <th>num_correct</th>\n",
       "      <th>num_incorrect</th>\n",
       "      <th>accuracy</th>\n",
       "      <th>accuracy_group</th>\n",
       "    </tr>\n",
       "  </thead>\n",
       "  <tbody>\n",
       "    <tr>\n",
       "      <td>0</td>\n",
       "      <td>6bdf9623adc94d89</td>\n",
       "      <td>0006a69f</td>\n",
       "      <td>Mushroom Sorter (Assessment)</td>\n",
       "      <td>1</td>\n",
       "      <td>0</td>\n",
       "      <td>1.0</td>\n",
       "      <td>3</td>\n",
       "    </tr>\n",
       "    <tr>\n",
       "      <td>1</td>\n",
       "      <td>77b8ee947eb84b4e</td>\n",
       "      <td>0006a69f</td>\n",
       "      <td>Bird Measurer (Assessment)</td>\n",
       "      <td>0</td>\n",
       "      <td>11</td>\n",
       "      <td>0.0</td>\n",
       "      <td>0</td>\n",
       "    </tr>\n",
       "    <tr>\n",
       "      <td>2</td>\n",
       "      <td>901acc108f55a5a1</td>\n",
       "      <td>0006a69f</td>\n",
       "      <td>Mushroom Sorter (Assessment)</td>\n",
       "      <td>1</td>\n",
       "      <td>0</td>\n",
       "      <td>1.0</td>\n",
       "      <td>3</td>\n",
       "    </tr>\n",
       "    <tr>\n",
       "      <td>3</td>\n",
       "      <td>9501794defd84e4d</td>\n",
       "      <td>0006a69f</td>\n",
       "      <td>Mushroom Sorter (Assessment)</td>\n",
       "      <td>1</td>\n",
       "      <td>1</td>\n",
       "      <td>0.5</td>\n",
       "      <td>2</td>\n",
       "    </tr>\n",
       "    <tr>\n",
       "      <td>4</td>\n",
       "      <td>a9ef3ecb3d1acc6a</td>\n",
       "      <td>0006a69f</td>\n",
       "      <td>Bird Measurer (Assessment)</td>\n",
       "      <td>1</td>\n",
       "      <td>0</td>\n",
       "      <td>1.0</td>\n",
       "      <td>3</td>\n",
       "    </tr>\n",
       "  </tbody>\n",
       "</table>\n",
       "</div>"
      ],
      "text/plain": [
       "       game_session installation_id                         title  \\\n",
       "0  6bdf9623adc94d89        0006a69f  Mushroom Sorter (Assessment)   \n",
       "1  77b8ee947eb84b4e        0006a69f    Bird Measurer (Assessment)   \n",
       "2  901acc108f55a5a1        0006a69f  Mushroom Sorter (Assessment)   \n",
       "3  9501794defd84e4d        0006a69f  Mushroom Sorter (Assessment)   \n",
       "4  a9ef3ecb3d1acc6a        0006a69f    Bird Measurer (Assessment)   \n",
       "\n",
       "   num_correct  num_incorrect  accuracy  accuracy_group  \n",
       "0            1              0       1.0               3  \n",
       "1            0             11       0.0               0  \n",
       "2            1              0       1.0               3  \n",
       "3            1              1       0.5               2  \n",
       "4            1              0       1.0               3  "
      ]
     },
     "execution_count": 20,
     "metadata": {},
     "output_type": "execute_result"
    }
   ],
   "source": [
    "train_labels.head()"
   ]
  },
  {
   "cell_type": "code",
   "execution_count": 33,
   "metadata": {},
   "outputs": [
    {
     "data": {
      "image/png": "[encoded data removed]",
      "text/plain": [
       "<Figure size 1080x360 with 1 Axes>"
      ]
     },
     "metadata": {
      "needs_background": "light"
     },
     "output_type": "display_data"
    }
   ],
   "source": [
    "# Get a count of how many instances for 0,1,2,3 in accuracy_group\n",
    "train_labels.groupby('accuracy_group')['game_session'].count() \\\n",
    "    .plot(kind='barh', figsize=(15, 5), title='Total Count of Each Accuracy Group')\n",
    "plt.show()"
   ]
  },
  {
   "cell_type": "markdown",
   "metadata": {},
   "source": [
    "# Notes about accuracy_group\n",
    "- Accuracy_group 3 (which is right on the first attempt) accounts for approximately 50% of the total count.\n",
    "- Accuracy_group 2 & 1 accounts for approximately 12.5% each.\n",
    "- Accuracy_group 0 account for approximately 25%\n",
    "- These percentage values can be used as a judge to determine if the difficulty of the questions should be harder so accuracy_group 3 makes up less than 50% or perhaps it is desired that the accuracy_group 3 makes up more than 50% then the questions should be easier.\n",
    "- The percentage of each accuracy_group can be used as a rough guide to forecast the number of attempts. Since 50% of the time they will get it right on the first attempt, 12.5% of the time will be 1 attempt, 12.5% of the time will be 3 or more attempts and 25% of the time will not be solved.\n"
   ]
  },
  {
   "cell_type": "code",
   "execution_count": 34,
   "metadata": {},
   "outputs": [
    {
     "data": {
      "image/png": "[encoded data removed]",
      "text/plain": [
       "<Figure size 1080x360 with 1 Axes>"
      ]
     },
     "metadata": {
      "needs_background": "light"
     },
     "output_type": "display_data"
    }
   ],
   "source": [
    "train_labels.groupby('num_incorrect')['game_session'].count() \\\n",
    "    .plot(kind='barh', figsize=(15, 5), title='Number Incorrect')\n",
    "plt.show()\n"
   ]
  },
  {
   "cell_type": "markdown",
   "metadata": {},
   "source": [
    "The chart has too many values on at the lower extremes to get a good idea of what the higher extremes are."
   ]
  },
  {
   "cell_type": "code",
   "execution_count": 42,
   "metadata": {
    "scrolled": true
   },
   "outputs": [
    {
     "data": {
      "image/png": "[encoded data removed]",
      "text/plain": [
       "<Figure size 1080x360 with 1 Axes>"
      ]
     },
     "metadata": {
      "needs_background": "light"
     },
     "output_type": "display_data"
    }
   ],
   "source": [
    "# Separate the number incorrect to only include those above 15\n",
    "high_values = train_labels[(train_labels['num_incorrect'] > 15)]\n",
    "high_values.groupby('num_incorrect')['game_session'].count() \\\n",
    "    .plot(kind='barh', figsize=(15, 5), title='Number Incorrect > 15')\n",
    "plt.show()"
   ]
  },
  {
   "cell_type": "code",
   "execution_count": 41,
   "metadata": {},
   "outputs": [
    {
     "data": {
      "image/png": "[encoded data removed]",
      "text/plain": [
       "<Figure size 1080x360 with 1 Axes>"
      ]
     },
     "metadata": {
      "needs_background": "light"
     },
     "output_type": "display_data"
    }
   ],
   "source": [
    "# Separate the number incorrect to only include those below & including 15\n",
    "high_values = train_labels[(train_labels['num_incorrect'] <= 15)]\n",
    "high_values.groupby('num_incorrect')['game_session'].count() \\\n",
    "    .plot(kind='barh', figsize=(15, 5), title='Number Incorrect 15 & Below')\n",
    "plt.show()"
   ]
  },
  {
   "cell_type": "markdown",
   "metadata": {},
   "source": [
    "- After breaking the chart up, it can be seen that the majority over 25 are just one instance so excluding them should be considered.\n",
    "- Realistically speaking, a child is very unlikely to try 85 times to get a problem correct. But what would  "
   ]
  }
 ],
 "metadata": {
  "kernelspec": {
   "display_name": "Python 3",
   "language": "python",
   "name": "python3"
  },
  "language_info": {
   "codemirror_mode": {
    "name": "ipython",
    "version": 3
   },
   "file_extension": ".py",
   "mimetype": "text/x-python",
   "name": "python",
   "nbconvert_exporter": "python",
   "pygments_lexer": "ipython3",
   "version": "3.7.4"
  }
 },
 "nbformat": 4,
 "nbformat_minor": 2
}
